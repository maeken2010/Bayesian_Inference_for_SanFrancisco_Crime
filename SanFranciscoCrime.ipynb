{
 "cells": [
  {
   "cell_type": "markdown",
   "metadata": {},
   "source": [
    "kaggleのhttps://www.kaggle.com/c/sf-crime を使って，San Franciscoで金曜日に犯罪が起こりやすいのかをベイズ統計的なあれで求める  \n",
    "このnotebookと同じディレクトリのinput/crimetrain.csv にデータがある前提．データはkaggleのサイトからダウンロード可能  \n",
    "詳細はスライドpdfを参照  \n",
    "\n",
    "** このnotebookに出力されててる結果はnotebook全体をrunする度に結果が変わるのでrunするときは適宜読み替えるように **"
   ]
  },
  {
   "cell_type": "code",
   "execution_count": 116,
   "metadata": {
    "collapsed": true
   },
   "outputs": [],
   "source": [
    "import numpy as np\n",
    "import pandas as pd\n",
    "import scipy\n",
    "%matplotlib inline"
   ]
  },
  {
   "cell_type": "code",
   "execution_count": 117,
   "metadata": {
    "collapsed": true
   },
   "outputs": [],
   "source": [
    "df = pd.read_csv(\"input/crimetrain.csv\")"
   ]
  },
  {
   "cell_type": "markdown",
   "metadata": {},
   "source": [
    "まずはデータを眺めてみる"
   ]
  },
  {
   "cell_type": "code",
   "execution_count": 118,
   "metadata": {
    "scrolled": true
   },
   "outputs": [
    {
     "data": {
      "text/html": [
       "<div>\n",
       "<style>\n",
       "    .dataframe thead tr:only-child th {\n",
       "        text-align: right;\n",
       "    }\n",
       "\n",
       "    .dataframe thead th {\n",
       "        text-align: left;\n",
       "    }\n",
       "\n",
       "    .dataframe tbody tr th {\n",
       "        vertical-align: top;\n",
       "    }\n",
       "</style>\n",
       "<table border=\"1\" class=\"dataframe\">\n",
       "  <thead>\n",
       "    <tr style=\"text-align: right;\">\n",
       "      <th></th>\n",
       "      <th>X</th>\n",
       "      <th>Y</th>\n",
       "    </tr>\n",
       "  </thead>\n",
       "  <tbody>\n",
       "    <tr>\n",
       "      <th>count</th>\n",
       "      <td>878049.000000</td>\n",
       "      <td>878049.000000</td>\n",
       "    </tr>\n",
       "    <tr>\n",
       "      <th>mean</th>\n",
       "      <td>-122.422616</td>\n",
       "      <td>37.771020</td>\n",
       "    </tr>\n",
       "    <tr>\n",
       "      <th>std</th>\n",
       "      <td>0.030354</td>\n",
       "      <td>0.456893</td>\n",
       "    </tr>\n",
       "    <tr>\n",
       "      <th>min</th>\n",
       "      <td>-122.513642</td>\n",
       "      <td>37.707879</td>\n",
       "    </tr>\n",
       "    <tr>\n",
       "      <th>25%</th>\n",
       "      <td>-122.432952</td>\n",
       "      <td>37.752427</td>\n",
       "    </tr>\n",
       "    <tr>\n",
       "      <th>50%</th>\n",
       "      <td>-122.416420</td>\n",
       "      <td>37.775421</td>\n",
       "    </tr>\n",
       "    <tr>\n",
       "      <th>75%</th>\n",
       "      <td>-122.406959</td>\n",
       "      <td>37.784369</td>\n",
       "    </tr>\n",
       "    <tr>\n",
       "      <th>max</th>\n",
       "      <td>-120.500000</td>\n",
       "      <td>90.000000</td>\n",
       "    </tr>\n",
       "  </tbody>\n",
       "</table>\n",
       "</div>"
      ],
      "text/plain": [
       "                   X              Y\n",
       "count  878049.000000  878049.000000\n",
       "mean     -122.422616      37.771020\n",
       "std         0.030354       0.456893\n",
       "min      -122.513642      37.707879\n",
       "25%      -122.432952      37.752427\n",
       "50%      -122.416420      37.775421\n",
       "75%      -122.406959      37.784369\n",
       "max      -120.500000      90.000000"
      ]
     },
     "execution_count": 118,
     "metadata": {},
     "output_type": "execute_result"
    }
   ],
   "source": [
    "df.describe()"
   ]
  },
  {
   "cell_type": "code",
   "execution_count": 119,
   "metadata": {},
   "outputs": [
    {
     "data": {
      "text/html": [
       "<div>\n",
       "<style>\n",
       "    .dataframe thead tr:only-child th {\n",
       "        text-align: right;\n",
       "    }\n",
       "\n",
       "    .dataframe thead th {\n",
       "        text-align: left;\n",
       "    }\n",
       "\n",
       "    .dataframe tbody tr th {\n",
       "        vertical-align: top;\n",
       "    }\n",
       "</style>\n",
       "<table border=\"1\" class=\"dataframe\">\n",
       "  <thead>\n",
       "    <tr style=\"text-align: right;\">\n",
       "      <th></th>\n",
       "      <th>Dates</th>\n",
       "      <th>Category</th>\n",
       "      <th>Descript</th>\n",
       "      <th>DayOfWeek</th>\n",
       "      <th>PdDistrict</th>\n",
       "      <th>Resolution</th>\n",
       "      <th>Address</th>\n",
       "      <th>X</th>\n",
       "      <th>Y</th>\n",
       "    </tr>\n",
       "  </thead>\n",
       "  <tbody>\n",
       "    <tr>\n",
       "      <th>0</th>\n",
       "      <td>2015-05-13 23:53:00</td>\n",
       "      <td>WARRANTS</td>\n",
       "      <td>WARRANT ARREST</td>\n",
       "      <td>Wednesday</td>\n",
       "      <td>NORTHERN</td>\n",
       "      <td>ARREST, BOOKED</td>\n",
       "      <td>OAK ST / LAGUNA ST</td>\n",
       "      <td>-122.425892</td>\n",
       "      <td>37.774599</td>\n",
       "    </tr>\n",
       "    <tr>\n",
       "      <th>1</th>\n",
       "      <td>2015-05-13 23:53:00</td>\n",
       "      <td>OTHER OFFENSES</td>\n",
       "      <td>TRAFFIC VIOLATION ARREST</td>\n",
       "      <td>Wednesday</td>\n",
       "      <td>NORTHERN</td>\n",
       "      <td>ARREST, BOOKED</td>\n",
       "      <td>OAK ST / LAGUNA ST</td>\n",
       "      <td>-122.425892</td>\n",
       "      <td>37.774599</td>\n",
       "    </tr>\n",
       "    <tr>\n",
       "      <th>2</th>\n",
       "      <td>2015-05-13 23:33:00</td>\n",
       "      <td>OTHER OFFENSES</td>\n",
       "      <td>TRAFFIC VIOLATION ARREST</td>\n",
       "      <td>Wednesday</td>\n",
       "      <td>NORTHERN</td>\n",
       "      <td>ARREST, BOOKED</td>\n",
       "      <td>VANNESS AV / GREENWICH ST</td>\n",
       "      <td>-122.424363</td>\n",
       "      <td>37.800414</td>\n",
       "    </tr>\n",
       "    <tr>\n",
       "      <th>3</th>\n",
       "      <td>2015-05-13 23:30:00</td>\n",
       "      <td>LARCENY/THEFT</td>\n",
       "      <td>GRAND THEFT FROM LOCKED AUTO</td>\n",
       "      <td>Wednesday</td>\n",
       "      <td>NORTHERN</td>\n",
       "      <td>NONE</td>\n",
       "      <td>1500 Block of LOMBARD ST</td>\n",
       "      <td>-122.426995</td>\n",
       "      <td>37.800873</td>\n",
       "    </tr>\n",
       "    <tr>\n",
       "      <th>4</th>\n",
       "      <td>2015-05-13 23:30:00</td>\n",
       "      <td>LARCENY/THEFT</td>\n",
       "      <td>GRAND THEFT FROM LOCKED AUTO</td>\n",
       "      <td>Wednesday</td>\n",
       "      <td>PARK</td>\n",
       "      <td>NONE</td>\n",
       "      <td>100 Block of BRODERICK ST</td>\n",
       "      <td>-122.438738</td>\n",
       "      <td>37.771541</td>\n",
       "    </tr>\n",
       "    <tr>\n",
       "      <th>5</th>\n",
       "      <td>2015-05-13 23:30:00</td>\n",
       "      <td>LARCENY/THEFT</td>\n",
       "      <td>GRAND THEFT FROM UNLOCKED AUTO</td>\n",
       "      <td>Wednesday</td>\n",
       "      <td>INGLESIDE</td>\n",
       "      <td>NONE</td>\n",
       "      <td>0 Block of TEDDY AV</td>\n",
       "      <td>-122.403252</td>\n",
       "      <td>37.713431</td>\n",
       "    </tr>\n",
       "    <tr>\n",
       "      <th>6</th>\n",
       "      <td>2015-05-13 23:30:00</td>\n",
       "      <td>VEHICLE THEFT</td>\n",
       "      <td>STOLEN AUTOMOBILE</td>\n",
       "      <td>Wednesday</td>\n",
       "      <td>INGLESIDE</td>\n",
       "      <td>NONE</td>\n",
       "      <td>AVALON AV / PERU AV</td>\n",
       "      <td>-122.423327</td>\n",
       "      <td>37.725138</td>\n",
       "    </tr>\n",
       "    <tr>\n",
       "      <th>7</th>\n",
       "      <td>2015-05-13 23:30:00</td>\n",
       "      <td>VEHICLE THEFT</td>\n",
       "      <td>STOLEN AUTOMOBILE</td>\n",
       "      <td>Wednesday</td>\n",
       "      <td>BAYVIEW</td>\n",
       "      <td>NONE</td>\n",
       "      <td>KIRKWOOD AV / DONAHUE ST</td>\n",
       "      <td>-122.371274</td>\n",
       "      <td>37.727564</td>\n",
       "    </tr>\n",
       "    <tr>\n",
       "      <th>8</th>\n",
       "      <td>2015-05-13 23:00:00</td>\n",
       "      <td>LARCENY/THEFT</td>\n",
       "      <td>GRAND THEFT FROM LOCKED AUTO</td>\n",
       "      <td>Wednesday</td>\n",
       "      <td>RICHMOND</td>\n",
       "      <td>NONE</td>\n",
       "      <td>600 Block of 47TH AV</td>\n",
       "      <td>-122.508194</td>\n",
       "      <td>37.776601</td>\n",
       "    </tr>\n",
       "    <tr>\n",
       "      <th>9</th>\n",
       "      <td>2015-05-13 23:00:00</td>\n",
       "      <td>LARCENY/THEFT</td>\n",
       "      <td>GRAND THEFT FROM LOCKED AUTO</td>\n",
       "      <td>Wednesday</td>\n",
       "      <td>CENTRAL</td>\n",
       "      <td>NONE</td>\n",
       "      <td>JEFFERSON ST / LEAVENWORTH ST</td>\n",
       "      <td>-122.419088</td>\n",
       "      <td>37.807802</td>\n",
       "    </tr>\n",
       "  </tbody>\n",
       "</table>\n",
       "</div>"
      ],
      "text/plain": [
       "                 Dates        Category                        Descript  \\\n",
       "0  2015-05-13 23:53:00        WARRANTS                  WARRANT ARREST   \n",
       "1  2015-05-13 23:53:00  OTHER OFFENSES        TRAFFIC VIOLATION ARREST   \n",
       "2  2015-05-13 23:33:00  OTHER OFFENSES        TRAFFIC VIOLATION ARREST   \n",
       "3  2015-05-13 23:30:00   LARCENY/THEFT    GRAND THEFT FROM LOCKED AUTO   \n",
       "4  2015-05-13 23:30:00   LARCENY/THEFT    GRAND THEFT FROM LOCKED AUTO   \n",
       "5  2015-05-13 23:30:00   LARCENY/THEFT  GRAND THEFT FROM UNLOCKED AUTO   \n",
       "6  2015-05-13 23:30:00   VEHICLE THEFT               STOLEN AUTOMOBILE   \n",
       "7  2015-05-13 23:30:00   VEHICLE THEFT               STOLEN AUTOMOBILE   \n",
       "8  2015-05-13 23:00:00   LARCENY/THEFT    GRAND THEFT FROM LOCKED AUTO   \n",
       "9  2015-05-13 23:00:00   LARCENY/THEFT    GRAND THEFT FROM LOCKED AUTO   \n",
       "\n",
       "   DayOfWeek PdDistrict      Resolution                        Address  \\\n",
       "0  Wednesday   NORTHERN  ARREST, BOOKED             OAK ST / LAGUNA ST   \n",
       "1  Wednesday   NORTHERN  ARREST, BOOKED             OAK ST / LAGUNA ST   \n",
       "2  Wednesday   NORTHERN  ARREST, BOOKED      VANNESS AV / GREENWICH ST   \n",
       "3  Wednesday   NORTHERN            NONE       1500 Block of LOMBARD ST   \n",
       "4  Wednesday       PARK            NONE      100 Block of BRODERICK ST   \n",
       "5  Wednesday  INGLESIDE            NONE            0 Block of TEDDY AV   \n",
       "6  Wednesday  INGLESIDE            NONE            AVALON AV / PERU AV   \n",
       "7  Wednesday    BAYVIEW            NONE       KIRKWOOD AV / DONAHUE ST   \n",
       "8  Wednesday   RICHMOND            NONE           600 Block of 47TH AV   \n",
       "9  Wednesday    CENTRAL            NONE  JEFFERSON ST / LEAVENWORTH ST   \n",
       "\n",
       "            X          Y  \n",
       "0 -122.425892  37.774599  \n",
       "1 -122.425892  37.774599  \n",
       "2 -122.424363  37.800414  \n",
       "3 -122.426995  37.800873  \n",
       "4 -122.438738  37.771541  \n",
       "5 -122.403252  37.713431  \n",
       "6 -122.423327  37.725138  \n",
       "7 -122.371274  37.727564  \n",
       "8 -122.508194  37.776601  \n",
       "9 -122.419088  37.807802  "
      ]
     },
     "execution_count": 119,
     "metadata": {},
     "output_type": "execute_result"
    }
   ],
   "source": [
    "df[:10]"
   ]
  },
  {
   "cell_type": "markdown",
   "metadata": {},
   "source": [
    "今回使うのはDayOfWeekだけなのでとりだす"
   ]
  },
  {
   "cell_type": "code",
   "execution_count": 120,
   "metadata": {
    "collapsed": true
   },
   "outputs": [],
   "source": [
    "df_of_DayOfWeek = df[\"DayOfWeek\"]"
   ]
  },
  {
   "cell_type": "markdown",
   "metadata": {},
   "source": [
    "２つのデータを抜き出す．今回は1000データずつ  \n",
    ".sampleメソッドはランダムにデータをとってくるので，このnotebook全体をrunするとデータが変わるので後の処理結果は変わる(かも"
   ]
  },
  {
   "cell_type": "code",
   "execution_count": 121,
   "metadata": {
    "collapsed": true
   },
   "outputs": [],
   "source": [
    "sample_data_1 = df_of_DayOfWeek.sample(n=1000)\n",
    "sample_data_2 = df_of_DayOfWeek.sample(n=1000) #ホントは上のデータと重複しないようにしないといけないけど今回は省略"
   ]
  },
  {
   "cell_type": "code",
   "execution_count": 122,
   "metadata": {},
   "outputs": [],
   "source": [
    "friday_freq_of_data1 = sample_data_1.value_counts()[\"Friday\"]\n",
    "friday_freq_of_data2 = sample_data_2.value_counts()[\"Friday\"]"
   ]
  },
  {
   "cell_type": "markdown",
   "metadata": {},
   "source": [
    "### Cycle1"
   ]
  },
  {
   "cell_type": "markdown",
   "metadata": {},
   "source": [
    "Hx:xの確率で金曜日に犯罪が起こる確率  \n",
    "O:犯罪が起こる確率\n",
    "\n",
    "data1からP(H|O)を求めたいので，ベイズの定理により(P(O|H)P(H)) / (sum P(O|H)P(H))を求めることになる．  \n",
    "詳細はスライドpdf参照．  \n",
    "\n",
    "手順は，  \n",
    "1. 事前確率P(O|H)の関数を作る．今回は２項分布．(この関数は扱うデータによって求め方が異なると思われます)\n",
    "2. (sum P(O|H)P(H))を求める\n",
    "3. (P(O|H)P(H)) / (sum P(O|H)P(H))をHx毎に求める\n",
    "\n",
    "ただし，P(H)は最初のCycleではどのHxでも同じ値(一定の分布と仮定)なので実際にはP(H|O) = (P(O|H)) / (sum P(O|H))になる．  \n",
    "なので適当に簡略化しとく"
   ]
  },
  {
   "cell_type": "code",
   "execution_count": 123,
   "metadata": {
    "collapsed": true
   },
   "outputs": [],
   "source": [
    "# Hxの範囲．1〜100%\n",
    "h_range = list(range(1,101))"
   ]
  },
  {
   "cell_type": "code",
   "execution_count": 124,
   "metadata": {},
   "outputs": [],
   "source": [
    "# 事前確率を求める関数．引数hはHxに相当\n",
    "priori1 = lambda h: scipy.misc.comb(1000, friday_freq_of_data1) * ((h/100)**friday_freq_of_data1) * (((100-h)/100)**(1000-friday_freq_of_data1))\n",
    "# (sum P(O|H))を求める\n",
    "sum_p_o1 = sum(map(priori1, h_range))\n",
    "#  (P(O|H)) / (sum P(O|H))を求める関数\n",
    "posterior1 = lambda h: priori1(h)/sum_p_o1\n",
    "# (P(O|H)) / (sum P(O|H))をHx毎に求める\n",
    "posterior_distribution1 = list(map(posterior1, h_range))"
   ]
  },
  {
   "cell_type": "code",
   "execution_count": 125,
   "metadata": {
    "scrolled": true
   },
   "outputs": [
    {
     "data": {
      "text/plain": [
       "[7.8888533326355781e-129,\n",
       " 1.3689791999029254e-85,\n",
       " 7.0334612401439259e-62,\n",
       " 3.4608993880105374e-46,\n",
       " 6.5910283811516076e-35,\n",
       " 1.9607089872924647e-26,\n",
       " 6.543535505679923e-20,\n",
       " 7.9409761546585848e-15,\n",
       " 7.476119473062983e-11,\n",
       " 9.1535089035981626e-08]"
      ]
     },
     "execution_count": 125,
     "metadata": {},
     "output_type": "execute_result"
    }
   ],
   "source": [
    "posterior_distribution1[:10]"
   ]
  },
  {
   "cell_type": "markdown",
   "metadata": {},
   "source": [
    "いい感じなのでグラフを描く  \n",
    "てきとうに描いてるけどちゃんと整形するときは下記とか参照  \n",
    "http://own-search-and-study.xyz/2016/08/03/pandas%E3%81%AEplot%E3%81%AE%E5%85%A8%E5%BC%95%E6%95%B0%E3%82%92%E4%BD%BF%E3%81%84%E3%81%93%E3%81%AA%E3%81%99/"
   ]
  },
  {
   "cell_type": "code",
   "execution_count": 126,
   "metadata": {},
   "outputs": [
    {
     "data": {
      "text/plain": [
       "<matplotlib.axes._subplots.AxesSubplot at 0x1a3dfee8d0>"
      ]
     },
     "execution_count": 126,
     "metadata": {},
     "output_type": "execute_result"
    },
    {
     "data": {
      "image/png": "[encoded data removed]",
      "text/plain": [
       "<matplotlib.figure.Figure at 0x1a3dfee048>"
      ]
     },
     "metadata": {},
     "output_type": "display_data"
    }
   ],
   "source": [
    "plot_df1 = pd.DataFrame(posterior_distribution1, columns=[\"Cycle1\"])\n",
    "plot_df1.plot()"
   ]
  },
  {
   "cell_type": "code",
   "execution_count": 127,
   "metadata": {},
   "outputs": [
    {
     "data": {
      "text/html": [
       "<div>\n",
       "<style>\n",
       "    .dataframe thead tr:only-child th {\n",
       "        text-align: right;\n",
       "    }\n",
       "\n",
       "    .dataframe thead th {\n",
       "        text-align: left;\n",
       "    }\n",
       "\n",
       "    .dataframe tbody tr th {\n",
       "        vertical-align: top;\n",
       "    }\n",
       "</style>\n",
       "<table border=\"1\" class=\"dataframe\">\n",
       "  <thead>\n",
       "    <tr style=\"text-align: right;\">\n",
       "      <th></th>\n",
       "      <th>Cycle1</th>\n",
       "    </tr>\n",
       "  </thead>\n",
       "  <tbody>\n",
       "    <tr>\n",
       "      <th>count</th>\n",
       "      <td>1.000000e+02</td>\n",
       "    </tr>\n",
       "    <tr>\n",
       "      <th>mean</th>\n",
       "      <td>1.000000e-02</td>\n",
       "    </tr>\n",
       "    <tr>\n",
       "      <th>std</th>\n",
       "      <td>4.882563e-02</td>\n",
       "    </tr>\n",
       "    <tr>\n",
       "      <th>min</th>\n",
       "      <td>0.000000e+00</td>\n",
       "    </tr>\n",
       "    <tr>\n",
       "      <th>25%</th>\n",
       "      <td>0.000000e+00</td>\n",
       "    </tr>\n",
       "    <tr>\n",
       "      <th>50%</th>\n",
       "      <td>1.535744e-120</td>\n",
       "    </tr>\n",
       "    <tr>\n",
       "      <th>75%</th>\n",
       "      <td>5.026806e-27</td>\n",
       "    </tr>\n",
       "    <tr>\n",
       "      <th>max</th>\n",
       "      <td>3.276004e-01</td>\n",
       "    </tr>\n",
       "  </tbody>\n",
       "</table>\n",
       "</div>"
      ],
      "text/plain": [
       "              Cycle1\n",
       "count   1.000000e+02\n",
       "mean    1.000000e-02\n",
       "std     4.882563e-02\n",
       "min     0.000000e+00\n",
       "25%     0.000000e+00\n",
       "50%    1.535744e-120\n",
       "75%     5.026806e-27\n",
       "max     3.276004e-01"
      ]
     },
     "execution_count": 127,
     "metadata": {},
     "output_type": "execute_result"
    }
   ],
   "source": [
    "plot_df1.describe()"
   ]
  },
  {
   "cell_type": "code",
   "execution_count": 128,
   "metadata": {},
   "outputs": [
    {
     "data": {
      "text/plain": [
       "15"
      ]
     },
     "execution_count": 128,
     "metadata": {},
     "output_type": "execute_result"
    }
   ],
   "source": [
    "plot_df1[\"Cycle1\"].argmax()"
   ]
  },
  {
   "cell_type": "markdown",
   "metadata": {},
   "source": [
    "もし金曜日に犯罪が起こるのが少ないならP(H|O)のargmax(P(H|O)が最大のときのHx)は1/7(≒14.28％)を下回るはずだが，上回ってるので金曜日に犯罪が起こるのは正しそう  "
   ]
  },
  {
   "cell_type": "code",
   "execution_count": 129,
   "metadata": {
    "scrolled": true
   },
   "outputs": [
    {
     "name": "stdout",
     "output_type": "stream",
     "text": [
      "Cycle1    0.302496\n",
      "Name: 14, dtype: float64\n",
      "Cycle1    0.3276\n",
      "Name: 15, dtype: float64\n",
      "Cycle1    0.170943\n",
      "Name: 16, dtype: float64\n",
      "Cycle1    0.045953\n",
      "Name: 17, dtype: float64\n"
     ]
    }
   ],
   "source": [
    "print(plot_df1.iloc[14])\n",
    "print(plot_df1.iloc[15])\n",
    "print(plot_df1.iloc[16])\n",
    "print(plot_df1.iloc[17])"
   ]
  },
  {
   "cell_type": "markdown",
   "metadata": {},
   "source": [
    "### Cycle2\n",
    "次はdata2でベイズ更新．Cycle1で求めたP(H|O)を新しいP(H)とする．  \n",
    "つまりCycle1ではP(H)は一定と仮定したが，次はP(H)は一定ではなくdata1で求めた分布に従うとする．  \n",
    "なのでP(H)は消えないので次はちゃんと(P(O|H)P(H)) / (sum P(O|H)P(H))を求める"
   ]
  },
  {
   "cell_type": "code",
   "execution_count": 130,
   "metadata": {},
   "outputs": [],
   "source": [
    "# 事前確率を求める関数\n",
    "priori2 = lambda h: scipy.misc.comb(1000, friday_freq_of_data2) * ((h/100)**friday_freq_of_data2) * (((100-h)/100)**(1000-friday_freq_of_data2))\n",
    "# (sum P(O|H)P(H))を求める\n",
    "sum_p_o2 = sum(map(lambda h: priori2(h)*posterior_distribution1[h-1] , h_range))\n",
    "#  (P(O|H)P(H)) / (sum P(O|H)P(H))を求める関数\n",
    "posterior2 = lambda h: (priori2(h)*posterior_distribution1[h-1])/sum_p_o2\n",
    "# (P(O|H)) / (sum P(O|H))をHx毎に求める\n",
    "posterior_distribution2 = list(map(posterior2, h_range))"
   ]
  },
  {
   "cell_type": "code",
   "execution_count": 131,
   "metadata": {
    "scrolled": true
   },
   "outputs": [
    {
     "data": {
      "text/plain": [
       "<matplotlib.axes._subplots.AxesSubplot at 0x1a174ce2b0>"
      ]
     },
     "execution_count": 131,
     "metadata": {},
     "output_type": "execute_result"
    },
    {
     "data": {
      "image/png": "[encoded data removed]",
      "text/plain": [
       "<matplotlib.figure.Figure at 0x1a3dfee208>"
      ]
     },
     "metadata": {},
     "output_type": "display_data"
    }
   ],
   "source": [
    "plot_df2 = pd.DataFrame(posterior_distribution2, columns=[\"Cycle2\"])\n",
    "plot_df2.plot()"
   ]
  },
  {
   "cell_type": "markdown",
   "metadata": {},
   "source": [
    "Cycle1とCycle2で求めたP(H|O)の分布を重ねてみる"
   ]
  },
  {
   "cell_type": "code",
   "execution_count": 132,
   "metadata": {
    "collapsed": true
   },
   "outputs": [],
   "source": [
    "plot_df12 = pd.concat([plot_df1, plot_df2], axis=1)"
   ]
  },
  {
   "cell_type": "code",
   "execution_count": 133,
   "metadata": {},
   "outputs": [
    {
     "data": {
      "text/plain": [
       "<matplotlib.axes._subplots.AxesSubplot at 0x1a17504c88>"
      ]
     },
     "execution_count": 133,
     "metadata": {},
     "output_type": "execute_result"
    },
    {
     "data": {
      "image/png": "[encoded data removed]",
      "text/plain": [
       "<matplotlib.figure.Figure at 0x1a171f7c88>"
      ]
     },
     "metadata": {},
     "output_type": "display_data"
    }
   ],
   "source": [
    "plot_df12.plot()"
   ]
  },
  {
   "cell_type": "markdown",
   "metadata": {},
   "source": [
    "重ねてみるとCycle2で分布が変化したことがわかる"
   ]
  },
  {
   "cell_type": "code",
   "execution_count": 134,
   "metadata": {},
   "outputs": [
    {
     "data": {
      "text/plain": [
       "15"
      ]
     },
     "execution_count": 134,
     "metadata": {},
     "output_type": "execute_result"
    }
   ],
   "source": [
    "plot_df2[\"Cycle2\"].argmax()"
   ]
  },
  {
   "cell_type": "markdown",
   "metadata": {},
   "source": [
    "argmaxは15%で変わらないのでやはり金曜日に犯罪が起こりやすいと思われる．"
   ]
  },
  {
   "cell_type": "markdown",
   "metadata": {},
   "source": [
    "最後に信頼区間と平均を求めておく(求め方は自信ない)"
   ]
  },
  {
   "cell_type": "code",
   "execution_count": 135,
   "metadata": {},
   "outputs": [
    {
     "name": "stdout",
     "output_type": "stream",
     "text": [
      "Cycle1\n",
      "mean: Cycle1    0.01\n",
      "dtype: float64\n",
      "Confidence interval: (array([ 0.00031194]), array([ 0.01968806]))\n"
     ]
    }
   ],
   "source": [
    "print(\"Cycle1\")\n",
    "print(\"mean:\", np.mean(plot_df1))\n",
    "print(\"Confidence interval:\", scipy.stats.t.interval(0.95, len(plot_df1)-1, loc=np.mean(plot_df1), scale=stats.sem(plot_df1)))"
   ]
  },
  {
   "cell_type": "code",
   "execution_count": 136,
   "metadata": {},
   "outputs": [
    {
     "name": "stdout",
     "output_type": "stream",
     "text": [
      "Cycle2\n",
      "mean: Cycle2    0.01\n",
      "dtype: float64\n",
      "Confidence interval: (array([-0.0015564]), array([ 0.0215564]))\n"
     ]
    }
   ],
   "source": [
    "print(\"Cycle2\")\n",
    "print(\"mean:\", np.mean(plot_df2))\n",
    "print(\"Confidence interval:\", scipy.stats.t.interval(0.95, len(plot_df2)-1, loc=np.mean(plot_df2), scale=stats.sem(plot_df2)))"
   ]
  },
  {
   "cell_type": "code",
   "execution_count": null,
   "metadata": {
    "collapsed": true
   },
   "outputs": [],
   "source": []
  }
 ],
 "metadata": {
  "kernelspec": {
   "display_name": "Python 3",
   "language": "python",
   "name": "python3"
  },
  "language_info": {
   "codemirror_mode": {
    "name": "ipython",
    "version": 3
   },
   "file_extension": ".py",
   "mimetype": "text/x-python",
   "name": "python",
   "nbconvert_exporter": "python",
   "pygments_lexer": "ipython3",
   "version": "3.6.3"
  }
 },
 "nbformat": 4,
 "nbformat_minor": 2
}
